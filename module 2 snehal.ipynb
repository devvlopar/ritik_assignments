{
 "cells": [
  {
   "cell_type": "code",
   "execution_count": 4,
   "id": "957e9357",
   "metadata": {},
   "outputs": [
    {
     "name": "stdout",
     "output_type": "stream",
     "text": [
      "10\n",
      "20\n",
      "20 10\n"
     ]
    }
   ],
   "source": [
    "a = input() #56\n",
    "b = input() #34\n",
    "\n",
    "temp = a #temp = 56\n",
    "a = b #a = 34\n",
    "b = temp #b = 34\n",
    "\n",
    "print(a, b)"
   ]
  },
  {
   "cell_type": "code",
   "execution_count": 7,
   "id": "392c43ed",
   "metadata": {},
   "outputs": [
    {
     "name": "stdout",
     "output_type": "stream",
     "text": [
      "enter value of A12\n",
      "enter value of B12\n",
      "True\n"
     ]
    }
   ],
   "source": [
    "a,b = int(input(\"enter value of A\")), int(input(\"enter value of B\"))\n",
    "\n",
    "if a == b or a + b == 5 or a-b == 5 :\n",
    "    print(True)\n",
    "else:\n",
    "    print(\"we don't know\")"
   ]
  },
  {
   "cell_type": "code",
   "execution_count": 9,
   "id": "b9085d99",
   "metadata": {},
   "outputs": [
    {
     "name": "stdout",
     "output_type": "stream",
     "text": [
      "10\n",
      "even\n"
     ]
    }
   ],
   "source": [
    "num = int(input()) #\n",
    "#one liner if\n",
    "#Syntax:\n",
    "# (IF ka part) if condition else (ELSE ka part)\n",
    "print('even') if num % 2 == 0 else print('odd')"
   ]
  },
  {
   "cell_type": "code",
   "execution_count": null,
   "id": "7f2c6bd9",
   "metadata": {},
   "outputs": [],
   "source": []
  }
 ],
 "metadata": {
  "kernelspec": {
   "display_name": "Python 3 (ipykernel)",
   "language": "python",
   "name": "python3"
  },
  "language_info": {
   "codemirror_mode": {
    "name": "ipython",
    "version": 3
   },
   "file_extension": ".py",
   "mimetype": "text/x-python",
   "name": "python",
   "nbconvert_exporter": "python",
   "pygments_lexer": "ipython3",
   "version": "3.10.9"
  }
 },
 "nbformat": 4,
 "nbformat_minor": 5
}
